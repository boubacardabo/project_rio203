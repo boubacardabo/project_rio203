{
 "cells": [
  {
   "cell_type": "code",
   "execution_count": 6,
   "metadata": {},
   "outputs": [],
   "source": [
    "import serial\n",
    "import time\n",
    "import requests"
   ]
  },
  {
   "cell_type": "code",
   "execution_count": 14,
   "metadata": {},
   "outputs": [
    {
     "ename": "SerialException",
     "evalue": "read failed: [Errno 6] Device not configured",
     "output_type": "error",
     "traceback": [
      "\u001b[0;31m---------------------------------------------------------------------------\u001b[0m",
      "\u001b[0;31mOSError\u001b[0m                                   Traceback (most recent call last)",
      "File \u001b[0;32m~/opt/anaconda3/lib/python3.8/site-packages/serial/serialposix.py:575\u001b[0m, in \u001b[0;36mSerial.read\u001b[0;34m(self, size)\u001b[0m\n\u001b[1;32m    574\u001b[0m         \u001b[39mbreak\u001b[39;00m   \u001b[39m# timeout\u001b[39;00m\n\u001b[0;32m--> 575\u001b[0m     buf \u001b[39m=\u001b[39m os\u001b[39m.\u001b[39;49mread(\u001b[39mself\u001b[39;49m\u001b[39m.\u001b[39;49mfd, size \u001b[39m-\u001b[39;49m \u001b[39mlen\u001b[39;49m(read))\n\u001b[1;32m    576\u001b[0m \u001b[39mexcept\u001b[39;00m \u001b[39mOSError\u001b[39;00m \u001b[39mas\u001b[39;00m e:\n\u001b[1;32m    577\u001b[0m     \u001b[39m# this is for Python 3.x where select.error is a subclass of\u001b[39;00m\n\u001b[1;32m    578\u001b[0m     \u001b[39m# OSError ignore BlockingIOErrors and EINTR. other errors are shown\u001b[39;00m\n\u001b[1;32m    579\u001b[0m     \u001b[39m# https://www.python.org/dev/peps/pep-0475.\u001b[39;00m\n",
      "\u001b[0;31mOSError\u001b[0m: [Errno 6] Device not configured",
      "\nDuring handling of the above exception, another exception occurred:\n",
      "\u001b[0;31mSerialException\u001b[0m                           Traceback (most recent call last)",
      "\u001b[1;32m/Users/boubacardabo/send_data.ipynb Cell 2\u001b[0m in \u001b[0;36m<cell line: 9>\u001b[0;34m()\u001b[0m\n\u001b[1;32m      <a href='vscode-notebook-cell:/Users/boubacardabo/send_data.ipynb#W1sZmlsZQ%3D%3D?line=7'>8</a>\u001b[0m beat \u001b[39m=\u001b[39m \u001b[39m0\u001b[39m\n\u001b[1;32m      <a href='vscode-notebook-cell:/Users/boubacardabo/send_data.ipynb#W1sZmlsZQ%3D%3D?line=8'>9</a>\u001b[0m \u001b[39mfor\u001b[39;00m i \u001b[39min\u001b[39;00m \u001b[39mrange\u001b[39m(\u001b[39m50000\u001b[39m):\n\u001b[0;32m---> <a href='vscode-notebook-cell:/Users/boubacardabo/send_data.ipynb#W1sZmlsZQ%3D%3D?line=9'>10</a>\u001b[0m     line \u001b[39m=\u001b[39m ser\u001b[39m.\u001b[39;49mreadline()   \u001b[39m# read a byte string\u001b[39;00m\n\u001b[1;32m     <a href='vscode-notebook-cell:/Users/boubacardabo/send_data.ipynb#W1sZmlsZQ%3D%3D?line=10'>11</a>\u001b[0m     \u001b[39mif\u001b[39;00m line:\n\u001b[1;32m     <a href='vscode-notebook-cell:/Users/boubacardabo/send_data.ipynb#W1sZmlsZQ%3D%3D?line=11'>12</a>\u001b[0m         string \u001b[39m=\u001b[39m line\u001b[39m.\u001b[39mdecode()  \u001b[39m# convert the byte string to a unicode string\u001b[39;00m\n",
      "File \u001b[0;32m~/opt/anaconda3/lib/python3.8/site-packages/serial/serialposix.py:581\u001b[0m, in \u001b[0;36mSerial.read\u001b[0;34m(self, size)\u001b[0m\n\u001b[1;32m    576\u001b[0m \u001b[39mexcept\u001b[39;00m \u001b[39mOSError\u001b[39;00m \u001b[39mas\u001b[39;00m e:\n\u001b[1;32m    577\u001b[0m     \u001b[39m# this is for Python 3.x where select.error is a subclass of\u001b[39;00m\n\u001b[1;32m    578\u001b[0m     \u001b[39m# OSError ignore BlockingIOErrors and EINTR. other errors are shown\u001b[39;00m\n\u001b[1;32m    579\u001b[0m     \u001b[39m# https://www.python.org/dev/peps/pep-0475.\u001b[39;00m\n\u001b[1;32m    580\u001b[0m     \u001b[39mif\u001b[39;00m e\u001b[39m.\u001b[39merrno \u001b[39mnot\u001b[39;00m \u001b[39min\u001b[39;00m (errno\u001b[39m.\u001b[39mEAGAIN, errno\u001b[39m.\u001b[39mEALREADY, errno\u001b[39m.\u001b[39mEWOULDBLOCK, errno\u001b[39m.\u001b[39mEINPROGRESS, errno\u001b[39m.\u001b[39mEINTR):\n\u001b[0;32m--> 581\u001b[0m         \u001b[39mraise\u001b[39;00m SerialException(\u001b[39m'\u001b[39m\u001b[39mread failed: \u001b[39m\u001b[39m{}\u001b[39;00m\u001b[39m'\u001b[39m\u001b[39m.\u001b[39mformat(e))\n\u001b[1;32m    582\u001b[0m \u001b[39mexcept\u001b[39;00m select\u001b[39m.\u001b[39merror \u001b[39mas\u001b[39;00m e:\n\u001b[1;32m    583\u001b[0m     \u001b[39m# this is for Python 2.x\u001b[39;00m\n\u001b[1;32m    584\u001b[0m     \u001b[39m# ignore BlockingIOErrors and EINTR. all errors are shown\u001b[39;00m\n\u001b[1;32m    585\u001b[0m     \u001b[39m# see also http://www.python.org/dev/peps/pep-3151/#select\u001b[39;00m\n\u001b[1;32m    586\u001b[0m     \u001b[39mif\u001b[39;00m e[\u001b[39m0\u001b[39m] \u001b[39mnot\u001b[39;00m \u001b[39min\u001b[39;00m (errno\u001b[39m.\u001b[39mEAGAIN, errno\u001b[39m.\u001b[39mEALREADY, errno\u001b[39m.\u001b[39mEWOULDBLOCK, errno\u001b[39m.\u001b[39mEINPROGRESS, errno\u001b[39m.\u001b[39mEINTR):\n",
      "\u001b[0;31mSerialException\u001b[0m: read failed: [Errno 6] Device not configured"
     ]
    }
   ],
   "source": [
    "ser = serial.Serial(port='/dev/cu.usbserial-110', baudrate=9600)\n",
    "time.sleep(2)\n",
    "hostname = \"thingsboard.cloud\"\n",
    "accessToken = \"AC1Qhu1PvJOIdELknLAB\"\n",
    "URL = \"http://\"+hostname+\"/api/v1/\"+accessToken+\"/telemetry\"\n",
    "\n",
    "temp = 0\n",
    "beat = 0\n",
    "try:\n",
    "    while(True):\n",
    "        line = ser.readline()   # read a byte string\n",
    "        if line:\n",
    "            string = line.decode()  # convert the byte string to a unicode string\n",
    "            if(string[0]==\"t\"):\n",
    "                temp = string[1:]\n",
    "                x = requests.post(URL, json = {'temperature': temp})\n",
    "            else: \n",
    "                beat = string[1:]\n",
    "                x = requests.post(URL, json = {'heartbeat': beat})\n",
    "except KeyboardInterrupt:\n",
    "    print('interrupted!')\n"
   ]
  }
 ],
 "metadata": {
  "kernelspec": {
   "display_name": "base",
   "language": "python",
   "name": "python3"
  },
  "language_info": {
   "codemirror_mode": {
    "name": "ipython",
    "version": 3
   },
   "file_extension": ".py",
   "mimetype": "text/x-python",
   "name": "python",
   "nbconvert_exporter": "python",
   "pygments_lexer": "ipython3",
   "version": "3.8.8 (default, Apr 13 2021, 12:59:45) \n[Clang 10.0.0 ]"
  },
  "orig_nbformat": 4,
  "vscode": {
   "interpreter": {
    "hash": "c925f59fcd78f3f01228eef97ce31e5246fb93524a5ab832c108aee9694f74eb"
   }
  }
 },
 "nbformat": 4,
 "nbformat_minor": 2
}
