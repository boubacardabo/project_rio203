{
 "cells": [
  {
   "cell_type": "code",
   "execution_count": 1,
   "metadata": {},
   "outputs": [],
   "source": [
    "#installer anaconda\n",
    "#conda install pyserial\n",
    "#conda install requests\n",
    "\n",
    "import serial\n",
    "import time\n",
    "import requests"
   ]
  },
  {
   "cell_type": "code",
   "execution_count": 5,
   "metadata": {},
   "outputs": [],
   "source": [
    "ser = serial.Serial(port='/dev/cu.usbserial-110', baudrate=9600)\n",
    "time.sleep(2)\n",
    "hostname = \"thingsboard.cloud\"\n",
    "accessToken = \"AC1Qhu1PvJOIdELknLAB\"\n",
    "URL = \"http://\"+hostname+\"/api/v1/\"+accessToken+\"/telemetry\"\n",
    "\n",
    "temp = 0\n",
    "beat = 0\n",
    "try:\n",
    "    while(True):\n",
    "        line = ser.readline()   # read a byte string\n",
    "        if line:\n",
    "            string = line.decode()  # convert the byte string to a unicode string\n",
    "            if(string[0]==\"t\"):\n",
    "                temp = string[1:]\n",
    "                x = requests.post(URL, json = {'temperature': temp})\n",
    "            else: \n",
    "                beat = string[1:]\n",
    "                x = requests.post(URL, json = {'heartbeat': beat})\n",
    "except KeyboardInterrupt:\n",
    "    print('interrupted!')\n"
   ]
  }
 ],
 "metadata": {
  "kernelspec": {
   "display_name": "base",
   "language": "python",
   "name": "python3"
  },
  "language_info": {
   "codemirror_mode": {
    "name": "ipython",
    "version": 3
   },
   "file_extension": ".py",
   "mimetype": "text/x-python",
   "name": "python",
   "nbconvert_exporter": "python",
   "pygments_lexer": "ipython3",
   "version": "3.8.8"
  },
  "orig_nbformat": 4,
  "vscode": {
   "interpreter": {
    "hash": "c925f59fcd78f3f01228eef97ce31e5246fb93524a5ab832c108aee9694f74eb"
   }
  }
 },
 "nbformat": 4,
 "nbformat_minor": 2
}
